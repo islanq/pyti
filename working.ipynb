{
 "cells": [
  {
   "cell_type": "markdown",
   "metadata": {},
   "source": [
    "# Convert to TI Spacing"
   ]
  },
  {
   "cell_type": "code",
   "execution_count": 25,
   "metadata": {},
   "outputs": [],
   "source": [
    "import os\n",
    "\n",
    "def convert_indentation(input_filename):\n",
    "  # Create the output directory if it doesn't exist\n",
    "  output_dir = '\\\\ti_converted'\n",
    "  os.makedirs(output_dir, exist_ok=True)\n",
    "\n",
    "  # Output file path\n",
    "  output_filename = os.path.join(output_dir, \"ti_\" + os.path.basename(input_filename))\n",
    "\n",
    "  with open(input_filename, 'r') as infile, open(output_filename, 'w') as outfile:\n",
    "      for line in infile:\n",
    "          # Count the number of tabs or 4-space groups at the beginning of the line\n",
    "          count = 0\n",
    "          while line.startswith('\\t') or line.startswith('    '):\n",
    "              if line.startswith('\\t'):\n",
    "                  line = line[1:]\n",
    "              else:\n",
    "                  line = line[4:]\n",
    "              count += 1\n",
    "\n",
    "          # Replace the tabs or 4-space groups with `2 * count` spaces\n",
    "          line = ' ' * (2 * count) + line\n",
    "          print(line)\n",
    "          outfile.write(line)\n",
    "\n",
    "  return output_filename\n",
    "\n",
    "  convert_indentation('')"
   ]
  },
  {
   "cell_type": "code",
   "execution_count": 2,
   "metadata": {},
   "outputs": [
    {
     "name": "stdout",
     "output_type": "stream",
     "text": [
      "[\n",
      "[ 1*5+2*7, 1*6+2*8],\n",
      "[ 3*5+4*7, 3*6+4*8],\n",
      "]\n",
      "[[19, 22], [43, 50]]\n",
      "[[1, 1, 2], [2, 3, 5]]\n",
      "Normalize row 1 with pivot 4 by dividing row 1 by 4\n",
      "    1.00 |    -0.75 |    -2.25\n",
      "    3.00 |    -1.00 |    -8.00\n",
      "------------------------------\n",
      "Eliminate below pivot in column 1 by subtracting 3 * row 1 from row 2\n",
      "    1.00 |    -0.75 |    -2.25\n",
      "    0.00 |     1.25 |    -1.25\n",
      "------------------------------\n",
      "Normalize row 2 with pivot 1.25 by dividing row 2 by 1.25\n",
      "    1.00 |    -0.75 |    -2.25\n",
      "    0.00 |     1.00 |    -1.00\n",
      "------------------------------\n",
      "Back substitution for x_2\n",
      "x[2] = -1.0\n",
      "Back substitution for x_1\n",
      "x[1] = -3.0\n",
      "[-3.0, -1.0]\n"
     ]
    }
   ],
   "source": [
    "from matrix import gaussian_elimination\n",
    "from matrix import matrix_multiply_compact\n",
    "from matrix import parse_equation_systems\n",
    "\n",
    "\n",
    "test_list_of_lists = [\n",
    "    [\"-4x−28y=-40\"],\n",
    "    [\"x-4y-2z=-3\"],\n",
    "    [\"-2x-3y+4*z=-5\"]\n",
    "]\n",
    "parse_equation_systems(test_list_of_lists)\n",
    "parse_equation_systems(\"-4x−28*y=-40\",\"x-4y-2z=-3\",\"-2x-3y+4z=-5\")\n",
    "\n",
    "print(matrix_multiply_compact([[1, 2], [3, 4]], [[5, 6], [7, 8]]))\n",
    "print(parse_equation_systems(\"x + y = 2\", \"2x + 3y = 5\"))\n",
    "print(gaussian_elimination([[4,-3,-9], [3,-1,-8]]))\n",
    "# Testing the function with a list of lists\n",
    "\n"
   ]
  },
  {
   "cell_type": "code",
   "execution_count": 4,
   "metadata": {},
   "outputs": [
    {
     "name": "stdout",
     "output_type": "stream",
     "text": [
      "[\n",
      "[ 4+4, -5+-5, 3+3, 4+4, 3+3],\n",
      "[ -1+-1, 1+1, 3+3, 3+3, 1+1],\n",
      "[ 3+3, -4+-4, 6+6, 7+7, 4+4],\n",
      "[ -3+-3, 3+3, 9+9, 9+9, 3+3],\n",
      "]\n",
      "[\n",
      "[8, -10, 6, 8, 6]\n",
      "[-2, 2, 6, 6, 2]\n",
      "[6, -8, 12, 14, 8]\n",
      "[-6, 6, 18, 18, 6]\n",
      "]\n"
     ]
    }
   ],
   "source": [
    "# Section 1.2 P 12\n",
    "from matrix import gaussian_elimination\n",
    "from matrix import Matrix\n",
    "soe = [\n",
    "  [ 4, -5, 3, 4, 3],\n",
    "  [-1,  1, 3, 3, 1],\n",
    "  [ 3, -4, 6, 7, 4],\n",
    "  [-3,  3, 9, 9, 3]\n",
    "]\n",
    "\n",
    "soe2 = [\n",
    "  [ 4, -5, 3, 4, 3],\n",
    "  [-1,  1, 3, 3, 1],\n",
    "  [ 3, -4, 6, 7, 4],\n",
    "  [-3,  3, 9, 9, 3]\n",
    "]\n",
    "m1 = Matrix(soe)\n",
    "m2 = Matrix(soe2)\n",
    "\n",
    "print(m1 + m2)\n",
    "#m.gaussian_elimination()\n",
    "\n",
    "#gaussian_elimination(soe)"
   ]
  },
  {
   "cell_type": "code",
   "execution_count": null,
   "metadata": {},
   "outputs": [
    {
     "name": "stdout",
     "output_type": "stream",
     "text": [
      "3\n",
      "1\n",
      "3\n"
     ]
    }
   ],
   "source": [
    "from matrix import Matrix\n",
    "pod = [[1, 0, 0], [0, 1, 0], [0, 0, 1]]\n",
    "reff_matrix = Matrix(pod)\n",
    "\n",
    "#test_matrix = Matrix([[1, 2], [3, 4], []])\n",
    "print(len(reff_matrix))\n",
    "print(reff_matrix[1][1])\n",
    "print(len(pod))"
   ]
  }
 ],
 "metadata": {
  "kernelspec": {
   "display_name": "venv",
   "language": "python",
   "name": "python3"
  },
  "language_info": {
   "codemirror_mode": {
    "name": "ipython",
    "version": 3
   },
   "file_extension": ".py",
   "mimetype": "text/x-python",
   "name": "python",
   "nbconvert_exporter": "python",
   "pygments_lexer": "ipython3",
   "version": "3.10.9"
  },
  "orig_nbformat": 4
 },
 "nbformat": 4,
 "nbformat_minor": 2
}
