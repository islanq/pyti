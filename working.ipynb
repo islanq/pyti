{
 "cells": [
  {
   "cell_type": "markdown",
   "metadata": {},
   "source": [
    "# Convert to TI Spacing"
   ]
  },
  {
   "cell_type": "code",
   "execution_count": 1,
   "metadata": {},
   "outputs": [
    {
     "data": {
      "text/plain": [
       "'./ti_converted/ti_matrix.py'"
      ]
     },
     "execution_count": 1,
     "metadata": {},
     "output_type": "execute_result"
    }
   ],
   "source": [
    "import os\n",
    "def convert_indentation(input_filename, desired_indent = 2, outdir=None):\n",
    "    # Create the output directory if it doesn't exist\n",
    "    output_dir = outdir if outdir else './ti_converted'\n",
    "    if not os.path.exists(output_dir):\n",
    "        os.makedirs(output_dir, exist_ok=True)\n",
    "\n",
    "    # Output file path\n",
    "    output_filename = os.path.join(output_dir, \"ti_\" + os.path.basename(input_filename)).replace('\\\\', '/')\n",
    "    \n",
    "    # Get the current indentation of the first \"def\" or \"class\" line\n",
    "    first_indent = None\n",
    "    with open(input_filename, 'r') as infile:\n",
    "        for line in infile:\n",
    "            stripped_line = line.lstrip()\n",
    "            if (stripped_line.startswith(\"def\") or stripped_line.startswith(\"class\")) and line != stripped_line:\n",
    "                first_indent = len(line) - len(stripped_line)\n",
    "                break\n",
    "        if first_indent is None:\n",
    "            raise ValueError(\"No indented 'def' or 'class' line found\")\n",
    "    \n",
    "    # Calculate the scale-down factor\n",
    "    scale_factor = desired_indent / first_indent\n",
    "    \n",
    "    # Adjust indentation\n",
    "    with open(input_filename, 'r') as infile, open(output_filename, 'w') as outfile:\n",
    "        for line in infile:\n",
    "            leading_whitespace = len(line) - len(line.lstrip())\n",
    "            \n",
    "            # If the line contains only whitespace, ignore it\n",
    "            if not line.strip():\n",
    "                outfile.write(line)\n",
    "            else:\n",
    "                adjusted_indent = int(leading_whitespace * scale_factor)\n",
    "                outfile.write(' ' * adjusted_indent + line.lstrip())\n",
    "                \n",
    "    return output_filename\n",
    "\n",
    "convert_indentation(r\"./matrix.py\", 2)\n"
   ]
  },
  {
   "cell_type": "markdown",
   "metadata": {},
   "source": [
    "# Toy Problems"
   ]
  },
  {
   "cell_type": "code",
   "execution_count": 7,
   "metadata": {},
   "outputs": [
    {
     "name": "stdout",
     "output_type": "stream",
     "text": [
      "[[-4, -28, 0, -40], [1, -4, -2, -3], [-2, -3, 4, -5]]\n",
      "[[-4, -28, 0, -40], [1, -4, -2, -3], [-2, -3, 4, -5]]\n",
      "[[1, 1, 2], [2, 3, 5]]\n"
     ]
    }
   ],
   "source": [
    "from matrix import parse_equation_systems\n",
    "\n",
    "print(parse_equation_systems([[\"-4x−28y=-40\"],[\"x-4y-2z=-3\"],[\"-2x-3y+4*z=-5\"]]))\n",
    "print(parse_equation_systems(\"-4x−28*y=-40\",\"x-4y-2z=-3\",\"-2x-3y+4z=-5\"))\n",
    "print(parse_equation_systems(\"x + y = 2\", \"2x + 3y = 5\"))"
   ]
  },
  {
   "cell_type": "code",
   "execution_count": 6,
   "metadata": {},
   "outputs": [
    {
     "name": "stdout",
     "output_type": "stream",
     "text": [
      "[[ 4*4+-5*-1+3*3+4*-3+3*-3, 4*-5+-5*1+3*-4+4*3+3*3, 4*3+-5*3+3*6+4*9+3*9, 4*4+-5*3+3*7+4*9+3*9, 4*3+-5*1+3*4+4*3+3*3 ],\n",
      " [ -1*4+1*-1+3*3+3*-3+1*-3, -1*-5+1*1+3*-4+3*3+1*3, -1*3+1*3+3*6+3*9+1*9, -1*4+1*3+3*7+3*9+1*9, -1*3+1*1+3*4+3*3+1*3 ],\n",
      " [ 3*4+-4*-1+6*3+7*-3+4*-3, 3*-5+-4*1+6*-4+7*3+4*3, 3*3+-4*3+6*6+7*9+4*9, 3*4+-4*3+6*7+7*9+4*9, 3*3+-4*1+6*4+7*3+4*3 ],\n",
      " [ -3*4+3*-1+9*3+9*-3+3*-3, -3*-5+3*1+9*-4+9*3+3*3, -3*3+3*3+9*6+9*9+3*9, -3*4+3*3+9*7+9*9+3*9, -3*3+3*1+9*4+9*3+3*3 ]]\n",
      "[[ 9, -16, 78, 85, 40 ],\n",
      " [ -8, 6, 54, 56, 22 ],\n",
      " [ 1, -10, 132, 141, 62 ],\n",
      " [ -24, 18, 162, 168, 66 ]]\n"
     ]
    }
   ],
   "source": [
    "# Section 1.2 P 12\n",
    "from matrix import gaussian_elimination\n",
    "from matrix import Matrix\n",
    "soe = [\n",
    "  [ 4, -5, 3, 4, 3],\n",
    "  [-1,  1, 3, 3, 1],\n",
    "  [ 3, -4, 6, 7, 4],\n",
    "  [-3,  3, 9, 9, 3]\n",
    "]\n",
    "\n",
    "soe2 = [\n",
    "  [ 4, -5, 3, 4, 3],\n",
    "  [-1,  1, 3, 3, 1],\n",
    "  [ 3, -4, 6, 7, 4],\n",
    "  [-3,  3, 9, 9, 3],\n",
    "  [-3,  3, 9, 9, 3]\n",
    "]\n",
    "m1 = Matrix(soe)\n",
    "m2 = Matrix(soe2)\n",
    "\n",
    "print(m1 * m2)\n",
    "#m.gaussian_elimination()\n",
    "\n",
    "#gaussian_elimination(soe)"
   ]
  },
  {
   "cell_type": "code",
   "execution_count": 5,
   "metadata": {},
   "outputs": [
    {
     "name": "stdout",
     "output_type": "stream",
     "text": [
      "3\n",
      "1\n",
      "3\n"
     ]
    }
   ],
   "source": [
    "from matrix import Matrix\n",
    "pod = [[1, 0, 0], [0, 1, 0], [0, 0, 1]]\n",
    "reff_matrix = Matrix(pod)\n",
    "\n",
    "#test_matrix = Matrix([[1, 2], [3, 4], []])\n",
    "print(len(reff_matrix))\n",
    "print(reff_matrix[1][1])\n",
    "print(len(pod))"
   ]
  },
  {
   "cell_type": "code",
   "execution_count": 4,
   "metadata": {},
   "outputs": [
    {
     "name": "stdout",
     "output_type": "stream",
     "text": [
      "9\n"
     ]
    }
   ],
   "source": [
    "from matrix import Matrix\n",
    "s = [[1,2,3],[4,5,6],[7,8,9]]\n",
    "s1 = Matrix(s)\n",
    "\n",
    "print(s1[2][2])"
   ]
  },
  {
   "cell_type": "code",
   "execution_count": 4,
   "metadata": {},
   "outputs": [
    {
     "name": "stdout",
     "output_type": "stream",
     "text": [
      "add m1 and m2\n",
      "[[ 1+4, 2+3, 3+2 ],\n",
      " [ 3+2, 2+3, 1+4 ],\n",
      " [ 2+3, 1+4, 3+2 ]]\n",
      "[[ 5, 5, 5 ],\n",
      " [ 5, 5, 5 ],\n",
      " [ 5, 5, 5 ]]\n",
      "\n",
      "sub m2 from m1\n",
      "[[ 1-4, 2-3, 3-2 ],\n",
      " [ 3-2, 2-3, 1-4 ],\n",
      " [ 2-3, 1-4, 3-2 ]]\n",
      "[[ -3, -1, 1 ],\n",
      " [ 1, -1, -3 ],\n",
      " [ -1, -3, 1 ]]\n",
      "\n",
      "raise m3 to the power of 2\n",
      "[[ 1*0+0*1+0*1, 1*1+0*1+0*1, 1*0+0*1+0*0 ],\n",
      " [ 0*0+1*1+0*1, 0*1+1*1+0*1, 0*0+1*1+0*0 ],\n",
      " [ 0*0+0*1+1*1, 0*1+0*1+1*1, 0*0+0*1+1*0 ]]\n",
      "[[ 0*0+1*1+0*1, 0*1+1*1+0*1, 0*0+1*1+0*0 ],\n",
      " [ 1*0+1*1+1*1, 1*1+1*1+1*1, 1*0+1*1+1*0 ],\n",
      " [ 1*0+1*1+0*1, 1*1+1*1+0*1, 1*0+1*1+0*0 ]]\n",
      "[[ 1, 1, 1 ],\n",
      " [ 2, 3, 1 ],\n",
      " [ 1, 2, 1 ]]\n"
     ]
    }
   ],
   "source": [
    "from matrix import Matrix\n",
    "\n",
    "m1 = Matrix([[1,2,3], [3,2,1], [2,1,3]])\n",
    "m2 = Matrix([[4,3,2], [2,3,4], [3,4,2]])\n",
    "m3 = Matrix([[0,1,0], [1,1,1], [1,1,0]])\n",
    "print(\"add m1 and m2\")\n",
    "print(m1 + m2)\n",
    "\n",
    "print(\"\\nsub m2 from m1\")\n",
    "print(m1 - m2)\n",
    "\n",
    "print(\"\\nraise m3 to the power of 2\")\n",
    "print(m3 ** 2)\n"
   ]
  },
  {
   "cell_type": "code",
   "execution_count": 5,
   "metadata": {},
   "outputs": [
    {
     "name": "stdout",
     "output_type": "stream",
     "text": [
      "False\n",
      "False\n",
      "Swapping row 1 with row 2: r1↔r2\n",
      "[[ 1, 1, 1 ],\n",
      " [ 0, 1, 0 ],\n",
      " [ 1, 1, 0 ]]\n",
      "Subtract 1 times row 1 from row 3\n",
      "  1.00,   1.00,   1.00\n",
      "  0.00,   1.00,   0.00\n",
      "  0.00,   0.00,  -1.00\n",
      "Divide row 3 by -1\n",
      "[[ 1, 1, 1 ],\n",
      " [ 0, 1, 0 ],\n",
      " [ -0.0, -0.0, 1.0 ]]\n",
      "The matrix in Row Echelon Form (REF) is:\n",
      "[[ 1, 1, 1 ],\n",
      " [ 0, 1, 0 ],\n",
      " [ -0.0, -0.0, 1.0 ]]\n",
      "Subtract 1 times row 3 from row 1\n",
      "  1.00,   1.00,   0.00\n",
      "  0.00,   1.00,   0.00\n",
      " -0.00,  -0.00,   1.00\n",
      "Subtract 1.0 times row 2 from row 1\n",
      "  1.00,   0.00,   0.00\n",
      "  0.00,   1.00,   0.00\n",
      " -0.00,  -0.00,   1.00\n",
      "The matrix in Reduced Row Echelon Form (RREF) is:\n",
      "[[ 1.0, 0.0, 0.0 ],\n",
      " [ 0, 1, 0 ],\n",
      " [ -0.0, -0.0, 1.0 ]]\n"
     ]
    }
   ],
   "source": [
    "print(m3.is_ref())\n",
    "print(m3.is_rref())\n",
    "\n",
    "m3.to_ref()\n",
    "m3.to_rref()"
   ]
  },
  {
   "cell_type": "code",
   "execution_count": 3,
   "metadata": {},
   "outputs": [
    {
     "name": "stdout",
     "output_type": "stream",
     "text": [
      "R1 = R1/-1\n",
      "  1.00 |   1.00 |   7.00 |   2.00\n",
      "  1.00 |  -1.00 |   3.00 |   3.00\n",
      "-----------------------------------\n",
      "R2 = R2-R1*1\n",
      "  1.00 |   1.00 |   7.00 |   2.00\n",
      "  0.00 |  -2.00 |  -4.00 |   1.00\n",
      "-----------------------------------\n",
      "R2 = R2/-2.0\n",
      "  1.00 |   1.00 |   7.00 |   2.00\n",
      " -0.00 |   1.00 |   2.00 |  -0.50\n",
      "-----------------------------------\n",
      "Back substitution for x_2\n",
      "x[2] = -0.5\n",
      "Back substitution for x_1\n",
      "x[1] = 2.5\n"
     ]
    },
    {
     "data": {
      "text/plain": [
       "[2.5, -0.5, 0]"
      ]
     },
     "execution_count": 3,
     "metadata": {},
     "output_type": "execute_result"
    }
   ],
   "source": [
    "# Section 1.2 P 7\n",
    "from matrix import gaussian_elimination\n",
    "from matrix import Matrix\n",
    "\n",
    "m = Matrix([[-1, -1, -7], [1, -1, 3]])\n",
    "gaussian_elimination(m, [-2, 3, 1])"
   ]
  }
 ],
 "metadata": {
  "kernelspec": {
   "display_name": "venv",
   "language": "python",
   "name": "python3"
  },
  "language_info": {
   "codemirror_mode": {
    "name": "ipython",
    "version": 3
   },
   "file_extension": ".py",
   "mimetype": "text/x-python",
   "name": "python",
   "nbconvert_exporter": "python",
   "pygments_lexer": "ipython3",
   "version": "3.10.9"
  },
  "orig_nbformat": 4
 },
 "nbformat": 4,
 "nbformat_minor": 2
}
